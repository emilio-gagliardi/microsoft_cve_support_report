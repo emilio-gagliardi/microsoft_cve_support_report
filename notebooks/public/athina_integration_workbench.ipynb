{
 "cells": [
  {
   "cell_type": "code",
   "execution_count": 9,
   "id": "88149d60-be2a-48b8-8423-b20b99098b6d",
   "metadata": {},
   "outputs": [
    {
     "data": {
      "text/html": [
       "<pre style=\"white-space:pre;overflow-x:auto;line-height:normal;font-family:Menlo,'DejaVu Sans Mono',consolas,'Courier New',monospace\"><span style=\"color: #7fbfbf; text-decoration-color: #7fbfbf\">[05/27/24 12:32:39] </span><span style=\"color: #000080; text-decoration-color: #000080\">INFO    </span> Resolved project path as:                                              <a href=\"file://C:\\Users\\emili\\anaconda3\\envs\\microsoft_cve_support_venv\\lib\\site-packages\\kedro\\ipython\\__init__.py\" target=\"_blank\"><span style=\"color: #7f7f7f; text-decoration-color: #7f7f7f\">__init__.py</span></a><span style=\"color: #7f7f7f; text-decoration-color: #7f7f7f\">:</span><a href=\"file://C:\\Users\\emili\\anaconda3\\envs\\microsoft_cve_support_venv\\lib\\site-packages\\kedro\\ipython\\__init__.py#139\" target=\"_blank\"><span style=\"color: #7f7f7f; text-decoration-color: #7f7f7f\">139</span></a>\n",
       "<span style=\"color: #7fbfbf; text-decoration-color: #7fbfbf\">                    </span>         C:\\Users\\emili\\PycharmProjects\\microsoft_cve_support_report.           <span style=\"color: #7f7f7f; text-decoration-color: #7f7f7f\">               </span>\n",
       "<span style=\"color: #7fbfbf; text-decoration-color: #7fbfbf\">                    </span>         To set a different path, run <span style=\"color: #008000; text-decoration-color: #008000\">'%reload_kedro &lt;project_root&gt;'</span>            <span style=\"color: #7f7f7f; text-decoration-color: #7f7f7f\">               </span>\n",
       "</pre>\n"
      ],
      "text/plain": [
       "\u001b[2;36m[05/27/24 12:32:39]\u001b[0m\u001b[2;36m \u001b[0m\u001b[34mINFO    \u001b[0m Resolved project path as:                                              \u001b]8;id=323508;file://C:\\Users\\emili\\anaconda3\\envs\\microsoft_cve_support_venv\\lib\\site-packages\\kedro\\ipython\\__init__.py\u001b\\\u001b[2m__init__.py\u001b[0m\u001b]8;;\u001b\\\u001b[2m:\u001b[0m\u001b]8;id=505896;file://C:\\Users\\emili\\anaconda3\\envs\\microsoft_cve_support_venv\\lib\\site-packages\\kedro\\ipython\\__init__.py#139\u001b\\\u001b[2m139\u001b[0m\u001b]8;;\u001b\\\n",
       "\u001b[2;36m                    \u001b[0m         C:\\Users\\emili\\PycharmProjects\\microsoft_cve_support_report.           \u001b[2m               \u001b[0m\n",
       "\u001b[2;36m                    \u001b[0m         To set a different path, run \u001b[32m'%reload_kedro \u001b[0m\u001b[32m<\u001b[0m\u001b[32mproject_root\u001b[0m\u001b[32m>\u001b[0m\u001b[32m'\u001b[0m            \u001b[2m               \u001b[0m\n"
      ]
     },
     "metadata": {},
     "output_type": "display_data"
    },
    {
     "data": {
      "text/html": [
       "<pre style=\"white-space:pre;overflow-x:auto;line-height:normal;font-family:Menlo,'DejaVu Sans Mono',consolas,'Courier New',monospace\"><span style=\"color: #7fbfbf; text-decoration-color: #7fbfbf\">[05/27/24 12:32:41] </span><span style=\"color: #000080; text-decoration-color: #000080\">INFO    </span> Kedro project kedro workbench                                          <a href=\"file://C:\\Users\\emili\\anaconda3\\envs\\microsoft_cve_support_venv\\lib\\site-packages\\kedro\\ipython\\__init__.py\" target=\"_blank\"><span style=\"color: #7f7f7f; text-decoration-color: #7f7f7f\">__init__.py</span></a><span style=\"color: #7f7f7f; text-decoration-color: #7f7f7f\">:</span><a href=\"file://C:\\Users\\emili\\anaconda3\\envs\\microsoft_cve_support_venv\\lib\\site-packages\\kedro\\ipython\\__init__.py#108\" target=\"_blank\"><span style=\"color: #7f7f7f; text-decoration-color: #7f7f7f\">108</span></a>\n",
       "</pre>\n"
      ],
      "text/plain": [
       "\u001b[2;36m[05/27/24 12:32:41]\u001b[0m\u001b[2;36m \u001b[0m\u001b[34mINFO    \u001b[0m Kedro project kedro workbench                                          \u001b]8;id=859389;file://C:\\Users\\emili\\anaconda3\\envs\\microsoft_cve_support_venv\\lib\\site-packages\\kedro\\ipython\\__init__.py\u001b\\\u001b[2m__init__.py\u001b[0m\u001b]8;;\u001b\\\u001b[2m:\u001b[0m\u001b]8;id=239573;file://C:\\Users\\emili\\anaconda3\\envs\\microsoft_cve_support_venv\\lib\\site-packages\\kedro\\ipython\\__init__.py#108\u001b\\\u001b[2m108\u001b[0m\u001b]8;;\u001b\\\n"
      ]
     },
     "metadata": {},
     "output_type": "display_data"
    },
    {
     "data": {
      "text/html": [
       "<pre style=\"white-space:pre;overflow-x:auto;line-height:normal;font-family:Menlo,'DejaVu Sans Mono',consolas,'Courier New',monospace\"><span style=\"color: #7fbfbf; text-decoration-color: #7fbfbf\">                    </span><span style=\"color: #000080; text-decoration-color: #000080\">INFO    </span> Defined global variable <span style=\"color: #008000; text-decoration-color: #008000\">'context'</span>, <span style=\"color: #008000; text-decoration-color: #008000\">'session'</span>, <span style=\"color: #008000; text-decoration-color: #008000\">'catalog'</span> and            <a href=\"file://C:\\Users\\emili\\anaconda3\\envs\\microsoft_cve_support_venv\\lib\\site-packages\\kedro\\ipython\\__init__.py\" target=\"_blank\"><span style=\"color: #7f7f7f; text-decoration-color: #7f7f7f\">__init__.py</span></a><span style=\"color: #7f7f7f; text-decoration-color: #7f7f7f\">:</span><a href=\"file://C:\\Users\\emili\\anaconda3\\envs\\microsoft_cve_support_venv\\lib\\site-packages\\kedro\\ipython\\__init__.py#109\" target=\"_blank\"><span style=\"color: #7f7f7f; text-decoration-color: #7f7f7f\">109</span></a>\n",
       "<span style=\"color: #7fbfbf; text-decoration-color: #7fbfbf\">                    </span>         <span style=\"color: #008000; text-decoration-color: #008000\">'pipelines'</span>                                                            <span style=\"color: #7f7f7f; text-decoration-color: #7f7f7f\">               </span>\n",
       "</pre>\n"
      ],
      "text/plain": [
       "\u001b[2;36m                   \u001b[0m\u001b[2;36m \u001b[0m\u001b[34mINFO    \u001b[0m Defined global variable \u001b[32m'context'\u001b[0m, \u001b[32m'session'\u001b[0m, \u001b[32m'catalog'\u001b[0m and            \u001b]8;id=727032;file://C:\\Users\\emili\\anaconda3\\envs\\microsoft_cve_support_venv\\lib\\site-packages\\kedro\\ipython\\__init__.py\u001b\\\u001b[2m__init__.py\u001b[0m\u001b]8;;\u001b\\\u001b[2m:\u001b[0m\u001b]8;id=448018;file://C:\\Users\\emili\\anaconda3\\envs\\microsoft_cve_support_venv\\lib\\site-packages\\kedro\\ipython\\__init__.py#109\u001b\\\u001b[2m109\u001b[0m\u001b]8;;\u001b\\\n",
       "\u001b[2;36m                    \u001b[0m         \u001b[32m'pipelines'\u001b[0m                                                            \u001b[2m               \u001b[0m\n"
      ]
     },
     "metadata": {},
     "output_type": "display_data"
    }
   ],
   "source": [
    "%reload_kedro"
   ]
  },
  {
   "cell_type": "code",
   "execution_count": 10,
   "id": "baffb982-e3f5-4942-a3a5-16190cf2989f",
   "metadata": {},
   "outputs": [
    {
     "data": {
      "text/html": [
       "<pre style=\"white-space:pre;overflow-x:auto;line-height:normal;font-family:Menlo,'DejaVu Sans Mono',consolas,'Courier New',monospace\"></pre>\n"
      ],
      "text/plain": []
     },
     "metadata": {},
     "output_type": "display_data"
    },
    {
     "data": {
      "text/plain": [
       "\u001b[1;35mWindowsPath\u001b[0m\u001b[1m(\u001b[0m\u001b[32m'C:/Users/emili/PycharmProjects/microsoft_cve_support_report'\u001b[0m\u001b[1m)\u001b[0m"
      ]
     },
     "execution_count": 10,
     "metadata": {},
     "output_type": "execute_result"
    }
   ],
   "source": [
    "from pathlib import Path\n",
    "# Path.cwd()\n",
    "# %cd ..\n",
    "Path.cwd()"
   ]
  },
  {
   "cell_type": "code",
   "execution_count": 11,
   "id": "5cc85361-8836-4e18-bd4e-b36eb512c55d",
   "metadata": {},
   "outputs": [],
   "source": [
    "from kedro_workbench.extras.datasets.MongoDataset import MongoDBDocs\n",
    "# from kedro_workbench.utils.llm_utils import (LLMParams, call_llm_completion_with_logging)\n",
    "from kedro_workbench.utils.llm_utils import (LLMParams)\n",
    "from kedro_workbench.utils.athina_logging_utils import (AthinaParams)\n",
    "import spacy\n",
    "from kedro.io import DataCatalog\n",
    "from kedro.config import ConfigLoader\n",
    "from kedro.framework.project import settings\n",
    "from kedro.framework.session import KedroSession\n",
    "from kedro.framework.startup import bootstrap_project\n",
    "from pathlib import Path\n",
    "\n",
    "from athina_logger.api_key import AthinaApiKey\n",
    "# from athina_logger.openai_wrapper import openai\n",
    "from athina_logger.inference_logger import InferenceLogger\n",
    "from athina_logger.exception.custom_exception import CustomException\n",
    "from athina_logger.log_stream_inference.openai_completion_stream import LogOpenAiCompletionStreamInference\n",
    "from athina_logger.athina_meta import AthinaMeta\n",
    "from typing import List, Dict, Optional, Any"
   ]
  },
  {
   "cell_type": "code",
   "execution_count": 12,
   "id": "05118eaf-40c2-4234-9c7f-222a01216e70",
   "metadata": {},
   "outputs": [],
   "source": [
    "project_path = Path.cwd()\n",
    "bootstrap_project(project_path)\n",
    "session = KedroSession.create(project_path=project_path)\n",
    "context = session.load_context()\n",
    "\n",
    "# conf_path = str(context.project_path / settings.CONF_SOURCE)\n",
    "# conf_loader = ConfigLoader(conf_source=conf_path, env=\"local\")\n",
    "conf_loader = ConfigLoader(settings.CONF_SOURCE)\n",
    "conf_catalog = conf_loader[\"catalog\"]\n",
    "conf_params = conf_loader[\"parameters\"]\n",
    "\n",
    "credentials = conf_loader[\"credentials\"]\n",
    "mongo_atlas = credentials[\"mongo_atlas\"]\n",
    "username = mongo_atlas[\"username\"]\n",
    "password = mongo_atlas[\"password\"]\n",
    "openai_api_key = credentials[\"OPENAI\"][\"api_key\"]\n",
    "\n",
    "athina_credentials = credentials[\"athina\"]\n",
    "athina_api_key = athina_credentials['api_key']\n",
    "AthinaApiKey.set_api_key(athina_api_key)"
   ]
  },
  {
   "cell_type": "code",
   "execution_count": null,
   "id": "39719f77-2de4-4fbb-bd6f-a6a71db77912",
   "metadata": {},
   "outputs": [],
   "source": [
    "def call_llm_completion_with_logging_old(model, system_prompt, input_prompt, max_tokens, temperature, prompt_slug, external_reference_id, cost, custom_attributes):\n",
    "\n",
    "    client = OpenAI(api_key=openai_api_key)\n",
    "    response_msg = \"\"\n",
    "    payload = {\n",
    "        \"model\": model,\n",
    "        \"messages\": [\n",
    "            {\n",
    "                \"role\": \"system\",\n",
    "                \"content\": system_prompt\n",
    "            },\n",
    "            {\n",
    "                \"role\": \"user\",\n",
    "                \"content\": input_prompt\n",
    "            }\n",
    "        ],\n",
    "        \"max_tokens\": max_tokens,\n",
    "        \"temperature\": temperature\n",
    "    }\n",
    "\n",
    "    try:\n",
    "        response = client.chat.completions.create(**payload)\n",
    "        choice = response.choices[0]\n",
    "        response_msg = choice.message.content\n",
    "        response_dict = response.model_dump()  # For openai > 1 version\n",
    "\n",
    "        try:\n",
    "            InferenceLogger.log_inference(\n",
    "                prompt_slug=prompt_slug,\n",
    "                prompt=payload[\"messages\"],\n",
    "                language_model_id=model,\n",
    "                response=response_dict,\n",
    "                external_reference_id=external_reference_id,\n",
    "                cost=cost,\n",
    "                custom_attributes=custom_attributes\n",
    "            )\n",
    "        except Exception as e:\n",
    "            if isinstance(e, CustomException):\n",
    "                print(e.status_code)\n",
    "                print(e.message)\n",
    "            else:\n",
    "                print(e)\n",
    "\n",
    "    except HTTPError as e:\n",
    "        print(f\"HTTPError occurred: {e}\")\n",
    "        print(f\"Max tokens: {max_tokens}\\nData sent: system_prompt: {system_prompt}, \\ninput_prompt: {input_prompt}\")\n",
    "    except Exception as e:\n",
    "        print(f\"An exception occurred: {e}\")\n",
    "\n",
    "    return response_msg"
   ]
  },
  {
   "cell_type": "code",
   "execution_count": null,
   "id": "e86ff63e-ab79-4f09-8461-e3f0649001c1",
   "metadata": {},
   "outputs": [],
   "source": [
    "model = 'gpt-4o'\n",
    "system_prompt = 'You are an expert in Microsoft cloud architecture and patching on Azure, Intune, Windows Desktop and mobile devices'\n",
    "input_prompt = 'What are some common Information Disclosure Vulnerabilities in Microsoft Edge Chromium that system administrators should be on the look out for?'\n",
    "max_tokens = 750\n",
    "temperature = 0.80\n",
    "prompt_slug = 'basic_prompt_slug_v1'\n",
    "external_reference_id = 'ext_ref_id_1000'\n",
    "\n",
    "custom_attributes = {\n",
    "    'environment': 'notebook',\n",
    "    'experiment': 'athina integration',\n",
    "    'product_owner': 'Emilio',\n",
    "    'product_owner_email': 'emilio.gagliardi@portalfuse.io'\n",
    "    \n",
    "}"
   ]
  },
  {
   "cell_type": "code",
   "execution_count": null,
   "id": "f4e31b9b-94e3-4f99-84a6-4d48181f6157",
   "metadata": {},
   "outputs": [],
   "source": [
    "response = call_llm_completion_with_logging(\n",
    "    model,\n",
    "    system_prompt,\n",
    "    input_prompt,\n",
    "    max_tokens,\n",
    "    temperature,\n",
    "    prompt_slug,\n",
    "    external_reference_id,\n",
    "    cost,\n",
    "    custom_attributes\n",
    ")\n",
    "print(response)"
   ]
  },
  {
   "cell_type": "code",
   "execution_count": 34,
   "id": "47fa5f9c-3081-47ab-99f6-e68df5f3fe0d",
   "metadata": {},
   "outputs": [],
   "source": [
    "from openai import OpenAI\n",
    "import time\n",
    "import openai\n",
    "def call_llm_completion_with_logging(\n",
    "    llm_params: LLMParams,\n",
    "    athina_params: AthinaParams\n",
    "):\n",
    "\n",
    "    client = OpenAI(api_key=openai_api_key)\n",
    "    response_msg = \"\"\n",
    "    payload = {\n",
    "        \"model\": llm_params.model,\n",
    "        \"messages\": [\n",
    "            {\n",
    "                \"role\": \"system\",\n",
    "                \"content\": llm_params.system_prompt\n",
    "            },\n",
    "            {\n",
    "                \"role\": \"user\",\n",
    "                \"content\": llm_params.input_prompt\n",
    "            }\n",
    "        ],\n",
    "        \"max_tokens\": llm_params.max_tokens,\n",
    "        \"temperature\": llm_params.temperature\n",
    "    }\n",
    "\n",
    "    try:\n",
    "        start_time = time.time()\n",
    "        response = client.chat.completions.create(**payload)\n",
    "        # response = openai.completions.create(**payload)\n",
    "        end_time = time.time()\n",
    "        response_time_ms = (end_time - start_time) * 1000\n",
    "        choice = response.choices[0]\n",
    "        response_msg = choice.message.content\n",
    "        response_dict = response.model_dump()\n",
    "\n",
    "        log_params = athina_params.__dict__\n",
    "        log_params.update({\n",
    "            \"prompt\": payload[\"messages\"],\n",
    "            \"user_query\": llm_params.input_prompt,\n",
    "            \"response\": response_dict,\n",
    "            \"language_model_id\": llm_params.model,\n",
    "            \"response_time\": response_time_ms\n",
    "        })\n",
    "        # print(f'log params:\\n{log_params}\\n')\n",
    "        try:\n",
    "            InferenceLogger.log_inference(**log_params)\n",
    "        except Exception as e:\n",
    "            if isinstance(e, CustomException):\n",
    "                print(e.status_code)\n",
    "                print(e.message)\n",
    "            else:\n",
    "                print(e)\n",
    "\n",
    "    except HTTPError as e:\n",
    "        print(f\"HTTPError occurred: {e}\")\n",
    "        print(f\"Max tokens: {llm_params.max_tokens}\\n\"\n",
    "              f\"Data sent: system_prompt: {llm_params.system_prompt},\\n\"\n",
    "              f\"input_prompt: {llm_params.input_prompt}\"\n",
    "              )\n",
    "    except Exception as e:\n",
    "        print(f\"An exception occurred: {e}\")\n",
    "    return response_msg"
   ]
  },
  {
   "cell_type": "code",
   "execution_count": 35,
   "id": "469277b7-0f0e-45fe-8fe0-c4a8a5f988de",
   "metadata": {},
   "outputs": [],
   "source": [
    "model = 'gpt-4o'\n",
    "system_prompt = 'You are an expert in Microsoft cloud architecture and patching on Azure, Intune, Windows Desktop and mobile devices'\n",
    "input_prompt = 'What are the top 3 most severe Information Disclosure Vulnerabilities in Microsoft Edge Chromium that system administrators should be on the look out for?'\n",
    "max_tokens = 350\n",
    "temperature = 0.80\n",
    "custom_attributes = {\n",
    "    'experiment': 'athina integration',\n",
    "    'product_owner': 'Emilio',\n",
    "    'product_owner_email': 'emilio.gagliardi@portalfuse.io'\n",
    "    \n",
    "}\n",
    "\n",
    "llm_params = LLMParams(\n",
    "    model=model,\n",
    "    system_prompt=system_prompt,\n",
    "    input_prompt=input_prompt,\n",
    "    max_tokens=max_tokens,\n",
    "    temperature=temperature\n",
    ")\n",
    "\n",
    "athina_params = AthinaParams(\n",
    "    language_model_id=model,\n",
    "    prompt=[{\"role\": \"system\", \"content\": system_prompt}, {\"role\": \"user\", \"content\": input_prompt}],\n",
    "    user_query=None,\n",
    "    context=None,\n",
    "    prompt_slug=\"top_3_information_disclosure_vulnerabilities\",\n",
    "    environment=\"uplyft_dsm_1_notebook\",\n",
    "    customer_id=\"PortalFuse\",\n",
    "    customer_user_id=\"emilio_gagliardi\",\n",
    "    session_id=\"cve_report_28_05_2024\",\n",
    "    custom_attributes=custom_attributes,\n",
    ")\n",
    "\n"
   ]
  },
  {
   "cell_type": "code",
   "execution_count": 36,
   "id": "68fc337c-a183-4577-8777-6b1c9bf60439",
   "metadata": {},
   "outputs": [
    {
     "name": "stdout",
     "output_type": "stream",
     "text": [
      "System administrators should be vigilant about several severe information disclosure vulnerabilities in Microsoft Edge Chromium. While the specific vulnerabilities can change over time as new ones are discovered and patched, historically, some of the most severe information disclosure vulnerabilities have included:\n",
      "\n",
      "### 1. **CVE-2021-21148: Type Confusion in V8**\n",
      "   - **Description**: This vulnerability is due to a type confusion error in the V8 engine, which is used for processing JavaScript in Chromium-based browsers like Microsoft Edge. If exploited, this vulnerability could allow an attacker to execute arbitrary code in the context of the browser, potentially leading to information disclosure.\n",
      "   - **Impact**: High. An attacker could gain access to sensitive information or take over the user’s session.\n",
      "\n",
      "### 2. **CVE-2021-21193: Use-After-Free in WebRTC**\n",
      "   - **Description**: This vulnerability arises from a use-after-free error in WebRTC, the component responsible for real-time communication in browsers. Exploitation of this flaw can lead to arbitrary code execution, which can result in an attacker gaining access to sensitive data.\n",
      "   - **Impact**: High. This could potentially expose user data and allow attackers to intercept communications.\n",
      "\n",
      "### 3. **CVE-2020-6383: Heap Buffer Overflow in WebAudio**\n",
      "   - **Description**: This is a heap buffer overflow vulnerability in the WebAudio component, which handles audio processing in the browser. An attacker could exploit this vulnerability to execute arbitrary code or leak information about the heap state, leading to information disclosure.\n",
      "   - **Impact**: High. This could enable attackers to access and manipulate user data.\n",
      "\n",
      "### Best Practices for Mitigation:\n",
      "\n",
      "1. **Regular\n"
     ]
    }
   ],
   "source": [
    "# response = call_llm_completion_with_logging(\n",
    "#     llm_params=llm_params,\n",
    "#     athina_eval=athina_eval,\n",
    "#     athina_meta=athina_meta\n",
    "# )\n",
    "response = call_llm_completion_with_logging(\n",
    "    llm_params=llm_params,\n",
    "    athina_params=athina_params\n",
    ")\n",
    "print(response)"
   ]
  },
  {
   "cell_type": "code",
   "execution_count": null,
   "id": "2989414d-21de-47f5-bbba-ccd156abe8fb",
   "metadata": {},
   "outputs": [],
   "source": [
    "response = openai.ChatCompletion.create(\n",
    "    model=\"gpt-4\",\n",
    "    messages=[\n",
    "        {\"role\": \"system\", \"content\": \"You are a helpful assistant.\"},\n",
    "        {\"role\": \"user\", \"content\": \"Who won the world series in 2020?\"}\n",
    "    ]\n",
    ")\n",
    "print(response.choices[0].message[\"content\"])"
   ]
  },
  {
   "cell_type": "code",
   "execution_count": null,
   "id": "c1decf18-c0ea-4dcd-b7d9-d0307cbd805b",
   "metadata": {},
   "outputs": [],
   "source": [
    "\"```json\\n{\\n    \\\"metadata\\\": {\\n        \\\"id\\\": \\\"6d724387-c7c1-7b37-1f02-6135ac9f0bbf\\\",\\n        \\\"post_id\\\": \\\"CVE-2024-30054\\\",\\n        \\\"revision\\\": \\\"1.0\\\",\\n        \\\"published\\\": \\\"14-05-2024\\\"\\n    },\\n    \\\"classification\\\": \\\"Solution provided\\\"\\n}\\n```\""
   ]
  }
 ],
 "metadata": {
  "kernelspec": {
   "display_name": "microsoft_cve_support_venv",
   "language": "python",
   "name": "python3"
  },
  "language_info": {
   "codemirror_mode": {
    "name": "ipython",
    "version": 3
   },
   "file_extension": ".py",
   "mimetype": "text/x-python",
   "name": "python",
   "nbconvert_exporter": "python",
   "pygments_lexer": "ipython3",
   "version": "3.10.14"
  }
 },
 "nbformat": 4,
 "nbformat_minor": 5
}
